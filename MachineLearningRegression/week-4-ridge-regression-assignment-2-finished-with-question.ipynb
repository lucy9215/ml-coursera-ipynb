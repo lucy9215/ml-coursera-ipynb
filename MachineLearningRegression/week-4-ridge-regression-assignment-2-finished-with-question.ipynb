{
 "cells": [
  {
   "cell_type": "markdown",
   "metadata": {},
   "source": [
    "# Regression Week 4: Ridge Regression (gradient descent)"
   ]
  },
  {
   "cell_type": "markdown",
   "metadata": {},
   "source": [
    "In this notebook, you will implement ridge regression via gradient descent. You will:\n",
    "* Convert an SFrame into a Numpy array\n",
    "* Write a Numpy function to compute the derivative of the regression weights with respect to a single feature\n",
    "* Write gradient descent function to compute the regression weights given an initial weight vector, step size, tolerance, and L2 penalty"
   ]
  },
  {
   "cell_type": "markdown",
   "metadata": {},
   "source": [
    "# Fire up graphlab create"
   ]
  },
  {
   "cell_type": "markdown",
   "metadata": {},
   "source": [
    "Make sure you have the latest version of GraphLab Create (>= 1.7)"
   ]
  },
  {
   "cell_type": "code",
   "execution_count": 1,
   "metadata": {
    "collapsed": false
   },
   "outputs": [],
   "source": [
    "import graphlab"
   ]
  },
  {
   "cell_type": "markdown",
   "metadata": {},
   "source": [
    "# Load in house sales data\n",
    "\n",
    "Dataset is from house sales in King County, the region where the city of Seattle, WA is located."
   ]
  },
  {
   "cell_type": "code",
   "execution_count": 2,
   "metadata": {
    "collapsed": false
   },
   "outputs": [
    {
     "name": "stdout",
     "output_type": "stream",
     "text": [
      "This non-commercial license of GraphLab Create for academic use is assigned to 52151214001@stu.ecnu.edu.cn and will expire on January 24, 2018.\n"
     ]
    },
    {
     "name": "stderr",
     "output_type": "stream",
     "text": [
      "[INFO] graphlab.cython.cy_server: GraphLab Create v2.1 started. Logging: /tmp/graphlab_server_1502992148.log\n"
     ]
    }
   ],
   "source": [
    "sales = graphlab.SFrame('../data/kc_house_data.gl/')"
   ]
  },
  {
   "cell_type": "markdown",
   "metadata": {},
   "source": [
    "If we want to do any \"feature engineering\" like creating new features or adjusting existing ones we should do this directly using the SFrames as seen in the first notebook of Week 2. For this notebook, however, we will work with the existing features."
   ]
  },
  {
   "cell_type": "markdown",
   "metadata": {},
   "source": [
    "# Import useful functions from previous notebook"
   ]
  },
  {
   "cell_type": "markdown",
   "metadata": {},
   "source": [
    "As in Week 2, we convert the SFrame into a 2D Numpy array. Copy and paste `get_numpy_data()` from the second notebook of Week 2."
   ]
  },
  {
   "cell_type": "code",
   "execution_count": 3,
   "metadata": {
    "collapsed": true
   },
   "outputs": [],
   "source": [
    "import numpy as np # note this allows us to refer to numpy as np instead "
   ]
  },
  {
   "cell_type": "code",
   "execution_count": 4,
   "metadata": {
    "collapsed": true
   },
   "outputs": [],
   "source": [
    "def get_numpy_data(data_sframe, features, output):\n",
    "    data_sframe['constant'] = 1 # this is how you add a constant column to an SFrame\n",
    "    # add the column 'constant' to the front of the features list so that we can extract it along with the others:\n",
    "    features = ['constant'] + features # this is how you combine two lists\n",
    "    # select the columns of data_SFrame given by the features list into the SFrame features_sframe (now including constant):\n",
    "    features_sframe = data_sframe[features]\n",
    "    # the following line will convert the features_SFrame into a numpy matrix:\n",
    "    feature_matrix = features_sframe.to_numpy()\n",
    "    # assign the column of data_sframe associated with the output to the SArray output_sarray\n",
    "    output_sarray = data_sframe[output]\n",
    "    # the following will convert the SArray into a numpy array by first converting it to a list\n",
    "    output_array = output_sarray.to_numpy()\n",
    "    return(feature_matrix, output_array)"
   ]
  },
  {
   "cell_type": "markdown",
   "metadata": {},
   "source": [
    "Also, copy and paste the `predict_output()` function to compute the predictions for an entire matrix of features given the matrix and the weights:"
   ]
  },
  {
   "cell_type": "code",
   "execution_count": 5,
   "metadata": {
    "collapsed": true
   },
   "outputs": [],
   "source": [
    "def predict_output(feature_matrix, weights):\n",
    "    # assume feature_matrix is a numpy matrix containing the features as columns and weights is a corresponding numpy array\n",
    "    # create the predictions vector by using np.dot()\n",
    "    predictions = np.dot(feature_matrix,weights)\n",
    "    return(predictions)"
   ]
  },
  {
   "cell_type": "markdown",
   "metadata": {},
   "source": [
    "# Computing the Derivative"
   ]
  },
  {
   "cell_type": "markdown",
   "metadata": {},
   "source": [
    "We are now going to move to computing the derivative of the regression cost function. Recall that the cost function is the sum over the data points of the squared difference between an observed output and a predicted output, plus the L2 penalty term.\n",
    "```\n",
    "Cost(w)\n",
    "= SUM[ (prediction - output)^2 ]\n",
    "+ l2_penalty*(w[0]^2 + w[1]^2 + ... + w[k]^2).\n",
    "```\n",
    "\n",
    "Since the derivative of a sum is the sum of the derivatives, we can take the derivative of the first part (the RSS) as we did in the notebook for the unregularized case in Week 2 and add the derivative of the regularization part.  As we saw, the derivative of the RSS with respect to `w[i]` can be written as: \n",
    "```\n",
    "2*SUM[ error*[feature_i] ].\n",
    "```\n",
    "The derivative of the regularization term with respect to `w[i]` is:\n",
    "```\n",
    "2*l2_penalty*w[i].\n",
    "```\n",
    "Summing both, we get\n",
    "```\n",
    "2*SUM[ error*[feature_i] ] + 2*l2_penalty*w[i].\n",
    "```\n",
    "That is, the derivative for the weight for feature i is the sum (over data points) of 2 times the product of the error and the feature itself, plus `2*l2_penalty*w[i]`. \n",
    "\n",
    "**We will not regularize the constant.**  Thus, in the case of the constant, the derivative is just twice the sum of the errors (without the `2*l2_penalty*w[0]` term).\n",
    "\n",
    "Recall that twice the sum of the product of two vectors is just twice the dot product of the two vectors. Therefore the derivative for the weight for feature_i is just two times the dot product between the values of feature_i and the current errors, plus `2*l2_penalty*w[i]`.\n",
    "\n",
    "With this in mind complete the following derivative function which computes the derivative of the weight given the value of the feature (over all data points) and the errors (over all data points).  To decide when to we are dealing with the constant (so we don't regularize it) we added the extra parameter to the call `feature_is_constant` which you should set to `True` when computing the derivative of the constant and `False` otherwise."
   ]
  },
  {
   "cell_type": "code",
   "execution_count": 6,
   "metadata": {
    "collapsed": true
   },
   "outputs": [],
   "source": [
    "def feature_derivative_ridge(errors, feature, weight, l2_penalty, feature_is_constant):\n",
    "    # If feature_is_constant is True, derivative is twice the dot product of errors and feature\n",
    "    if feature_is_constant:\n",
    "#         print 'Is constant', feature_is_constant\n",
    "        derivative = 2*np.dot(errors, feature)\n",
    "    # Otherwise, derivative is twice the dot product plus 2*l2_penalty*weight\n",
    "    else :\n",
    "#         print 'Not c\"onstant',feature_is_constant\n",
    "        derivative = 2*np.dot(errors, feature)+ 2*l2_penalty*weight\n",
    "    return derivative"
   ]
  },
  {
   "cell_type": "markdown",
   "metadata": {},
   "source": [
    "To test your feature derivartive run the following:"
   ]
  },
  {
   "cell_type": "code",
   "execution_count": 7,
   "metadata": {
    "collapsed": false
   },
   "outputs": [
    {
     "name": "stdout",
     "output_type": "stream",
     "text": [
      "-5.65541667824e+13\n",
      "-5.65541667824e+13\n",
      "\n",
      "-22446749336.0\n",
      "-22446749336.0\n"
     ]
    }
   ],
   "source": [
    "(example_features, example_output) = get_numpy_data(sales, ['sqft_living'], 'price') \n",
    "my_weights = np.array([1., 10.])\n",
    "test_predictions = predict_output(example_features, my_weights) \n",
    "errors = test_predictions - example_output # prediction errors\n",
    "\n",
    "# next two lines should print the same values\n",
    "print feature_derivative_ridge(errors, example_features[:,1], my_weights[1], 1, False)\n",
    "print np.sum(errors*example_features[:,1])*2+20.\n",
    "print ''\n",
    "\n",
    "# next two lines should print the same values\n",
    "print feature_derivative_ridge(errors, example_features[:,0], my_weights[0], 1, True)\n",
    "print np.sum(errors)*2.\n",
    "\n",
    "# print my_weights\n",
    "# print example_features\n",
    "# print errors"
   ]
  },
  {
   "cell_type": "markdown",
   "metadata": {},
   "source": [
    "# Gradient Descent"
   ]
  },
  {
   "cell_type": "markdown",
   "metadata": {},
   "source": [
    "Now we will write a function that performs a gradient descent. The basic premise is simple. Given a starting point we update the current weights by moving in the negative gradient direction. Recall that the gradient is the direction of *increase* and therefore the negative gradient is the direction of *decrease* and we're trying to *minimize* a cost function. \n",
    "\n",
    "The amount by which we move in the negative gradient *direction*  is called the 'step size'. We stop when we are 'sufficiently close' to the optimum. Unlike in Week 2, this time we will set a **maximum number of iterations** and take gradient steps until we reach this maximum number. If no maximum number is supplied, the maximum should be set 100 by default. (Use default parameter values in Python.)\n",
    "\n",
    "With this in mind, complete the following gradient descent function below using your derivative function above. For each step in the gradient descent, we update the weight for each feature before computing our stopping criteria."
   ]
  },
  {
   "cell_type": "code",
   "execution_count": 8,
   "metadata": {
    "collapsed": false
   },
   "outputs": [],
   "source": [
    "def ridge_regression_gradient_descent(feature_matrix, output, initial_weights, step_size, l2_penalty, max_iterations=100):\n",
    "    print 'Starting gradient descent with l2_penalty = ' + str(l2_penalty)\n",
    "    \n",
    "    weights = np.array(initial_weights) # make sure it's a numpy array\n",
    "    iteration = 0 # iteration counter\n",
    "    print_frequency = 1  # for adjusting frequency of debugging output\n",
    "    while iteration<max_iterations :\n",
    "    #while not reached maximum number of iterations:\n",
    "        iteration += 1  # increment iteration counter\n",
    "        ### === code section for adjusting frequency of debugging output. ===\n",
    "        if iteration == 10:\n",
    "            print_frequency = 10\n",
    "        if iteration == 100:\n",
    "            print_frequency = 100\n",
    "        if iteration%print_frequency==0:\n",
    "            print('Iteration = ' + str(iteration))\n",
    "        ### === end code section ===\n",
    "        \n",
    "        # compute the predictions based on feature_matrix and weights using your predict_output() function\n",
    "        predictions = predict_output(feature_matrix, weights)\n",
    "        # compute the errors as predictions - output\n",
    "        errors = predictions - output \n",
    "        # from time to time, print the value of the cost function\n",
    "        if iteration%print_frequency==0:\n",
    "            print 'Cost function = ', str(np.dot(errors,errors) + l2_penalty*(np.dot(weights,weights) - weights[0]**2))\n",
    "            print 'shrinking :',(1-2*step_size*l2_penalty)\n",
    "        \n",
    "        for i in xrange(len(weights)): # loop over each weight\n",
    "            # Recall that feature_matrix[:,i] is the feature column associated with weights[i]\n",
    "            # compute the derivative for weight[i].\n",
    "            #(Remember: when i=0, you are computing the derivative of the constant!)\n",
    "            if i == 0:\n",
    "                feature_is_constant = True\n",
    "            else:\n",
    "                feature_is_constant = False\n",
    "            derivative = feature_derivative_ridge(errors, feature_matrix[:,i], weights[i], l2_penalty, feature_is_constant)\n",
    "            # subtract the step size times the derivative from the current weight\n",
    "#             weights[i] = (1-2*step_size*l2_penalty)*weights[i]-step_size*derivative\n",
    "            weights[i] = weights[i]-step_size*derivative\n",
    "    print 'Done with gradient descent at iteration ', iteration\n",
    "    print 'Learned weights = ', str(weights)\n",
    "    return weights"
   ]
  },
  {
   "cell_type": "markdown",
   "metadata": {},
   "source": [
    "# Visualizing effect of L2 penalty"
   ]
  },
  {
   "cell_type": "markdown",
   "metadata": {},
   "source": [
    "The L2 penalty gets its name because it causes weights to have small L2 norms than otherwise. Let's see how large weights get penalized. Let us consider a simple model with 1 feature:"
   ]
  },
  {
   "cell_type": "code",
   "execution_count": 9,
   "metadata": {
    "collapsed": true
   },
   "outputs": [],
   "source": [
    "simple_features = ['sqft_living']\n",
    "my_output = 'price'"
   ]
  },
  {
   "cell_type": "markdown",
   "metadata": {},
   "source": [
    "Let us split the dataset into training set and test set. Make sure to use `seed=0`:"
   ]
  },
  {
   "cell_type": "code",
   "execution_count": 10,
   "metadata": {
    "collapsed": true
   },
   "outputs": [],
   "source": [
    "train_data,test_data = sales.random_split(.8,seed=0)"
   ]
  },
  {
   "cell_type": "code",
   "execution_count": 11,
   "metadata": {
    "collapsed": false
   },
   "outputs": [
    {
     "name": "stderr",
     "output_type": "stream",
     "text": [
      "/Users/luxi/anaconda/envs/gl-env/lib/python2.7/site-packages/matplotlib/font_manager.py:273: UserWarning: Matplotlib is building the font cache using fc-list. This may take a moment.\n",
      "  warnings.warn('Matplotlib is building the font cache using fc-list. This may take a moment.')\n"
     ]
    },
    {
     "data": {
      "text/plain": [
       "[<matplotlib.lines.Line2D at 0x120640910>]"
      ]
     },
     "execution_count": 11,
     "metadata": {},
     "output_type": "execute_result"
    },
    {
     "data": {
      "image/png": "[encoded data removed]",
      "text/plain": [
       "<matplotlib.figure.Figure at 0x11f2cbed0>"
      ]
     },
     "metadata": {},
     "output_type": "display_data"
    }
   ],
   "source": [
    "import matplotlib.pyplot as plt\n",
    "%matplotlib inline\n",
    "plt.plot(train_data['sqft_living'], train_data['price'], 'k.')"
   ]
  },
  {
   "cell_type": "markdown",
   "metadata": {},
   "source": [
    "In this part, we will only use `'sqft_living'` to predict `'price'`. Use the `get_numpy_data` function to get a Numpy versions of your data with only this feature, for both the `train_data` and the `test_data`. "
   ]
  },
  {
   "cell_type": "code",
   "execution_count": 12,
   "metadata": {
    "collapsed": true
   },
   "outputs": [],
   "source": [
    "(simple_feature_matrix, output) = get_numpy_data(train_data, simple_features, my_output)\n",
    "(simple_test_feature_matrix, test_output) = get_numpy_data(test_data, simple_features, my_output)"
   ]
  },
  {
   "cell_type": "code",
   "execution_count": 13,
   "metadata": {
    "collapsed": false
   },
   "outputs": [
    {
     "data": {
      "text/plain": [
       "[<matplotlib.lines.Line2D at 0x11b282110>]"
      ]
     },
     "execution_count": 13,
     "metadata": {},
     "output_type": "execute_result"
    },
    {
     "data": {
      "image/png": "[encoded data removed]",
      "text/plain": [
       "<matplotlib.figure.Figure at 0x1206061d0>"
      ]
     },
     "metadata": {},
     "output_type": "display_data"
    }
   ],
   "source": [
    "plt.plot(simple_feature_matrix[:,0], output, 'k.')"
   ]
  },
  {
   "cell_type": "markdown",
   "metadata": {},
   "source": [
    "Let's set the parameters for our optimization:"
   ]
  },
  {
   "cell_type": "code",
   "execution_count": 14,
   "metadata": {
    "collapsed": true
   },
   "outputs": [],
   "source": [
    "initial_weights = np.array([0., 0.]) # should use this to pass the homework\n",
    "# initial_weights = np.array([-47000., 1.])\n",
    "step_size = 1e-12\n",
    "max_iterations=1000"
   ]
  },
  {
   "cell_type": "markdown",
   "metadata": {},
   "source": [
    "First, let's consider no regularization.  Set the `l2_penalty` to `0.0` and run your ridge regression algorithm to learn the weights of your model.  Call your weights:\n",
    "\n",
    "`simple_weights_0_penalty`\n",
    "\n",
    "we'll use them later."
   ]
  },
  {
   "cell_type": "code",
   "execution_count": 15,
   "metadata": {
    "collapsed": false
   },
   "outputs": [
    {
     "name": "stdout",
     "output_type": "stream",
     "text": [
      "Starting gradient descent with l2_penalty = 0\n",
      "Iteration = 1\n",
      "Cost function =  7.43305185103e+15\n",
      "shrinking : 1.0\n",
      "Iteration = 2\n",
      "Cost function =  5.39426721314e+15\n",
      "shrinking : 1.0\n",
      "Iteration = 3\n",
      "Cost function =  4.0232377365e+15\n",
      "shrinking : 1.0\n",
      "Iteration = 4\n",
      "Cost function =  3.10125618392e+15\n",
      "shrinking : 1.0\n",
      "Iteration = 5\n",
      "Cost function =  2.48124764451e+15\n",
      "shrinking : 1.0\n",
      "Iteration = 6\n",
      "Cost function =  2.06430807789e+15\n",
      "shrinking : 1.0\n",
      "Iteration = 7\n",
      "Cost function =  1.78392709737e+15\n",
      "shrinking : 1.0\n",
      "Iteration = 8\n",
      "Cost function =  1.59537820315e+15\n",
      "shrinking : 1.0\n",
      "Iteration = 9\n",
      "Cost function =  1.46858399105e+15\n",
      "shrinking : 1.0\n",
      "Iteration = 10\n",
      "Cost function =  1.38331819148e+15\n",
      "shrinking : 1.0\n",
      "Iteration = 20\n",
      "Cost function =  1.2115621405e+15\n",
      "shrinking : 1.0\n",
      "Iteration = 30\n",
      "Cost function =  1.20831376268e+15\n",
      "shrinking : 1.0\n",
      "Iteration = 40\n",
      "Cost function =  1.20825232625e+15\n",
      "shrinking : 1.0\n",
      "Iteration = 50\n",
      "Cost function =  1.20825116361e+15\n",
      "shrinking : 1.0\n",
      "Iteration = 60\n",
      "Cost function =  1.20825114092e+15\n",
      "shrinking : 1.0\n",
      "Iteration = 70\n",
      "Cost function =  1.20825113978e+15\n",
      "shrinking : 1.0\n",
      "Iteration = 80\n",
      "Cost function =  1.20825113905e+15\n",
      "shrinking : 1.0\n",
      "Iteration = 90\n",
      "Cost function =  1.20825113832e+15\n",
      "shrinking : 1.0\n",
      "Iteration = 100\n",
      "Cost function =  1.2082511376e+15\n",
      "shrinking : 1.0\n",
      "Iteration = 200\n",
      "Cost function =  1.20825113037e+15\n",
      "shrinking : 1.0\n",
      "Iteration = 300\n",
      "Cost function =  1.20825112315e+15\n",
      "shrinking : 1.0\n",
      "Iteration = 400\n",
      "Cost function =  1.20825111592e+15\n",
      "shrinking : 1.0\n",
      "Iteration = 500\n",
      "Cost function =  1.2082511087e+15\n",
      "shrinking : 1.0\n",
      "Iteration = 600\n",
      "Cost function =  1.20825110147e+15\n",
      "shrinking : 1.0\n",
      "Iteration = 700\n",
      "Cost function =  1.20825109424e+15\n",
      "shrinking : 1.0\n",
      "Iteration = 800\n",
      "Cost function =  1.20825108702e+15\n",
      "shrinking : 1.0\n",
      "Iteration = 900\n",
      "Cost function =  1.20825107979e+15\n",
      "shrinking : 1.0\n",
      "Iteration = 1000\n",
      "Cost function =  1.20825107257e+15\n",
      "shrinking : 1.0\n",
      "Done with gradient descent at iteration  1000\n",
      "Learned weights =  [ -1.63113501e-01   2.63024369e+02]\n"
     ]
    }
   ],
   "source": [
    "simple_weights_0_penalty = ridge_regression_gradient_descent(simple_feature_matrix, output, initial_weights, step_size, 0, max_iterations)"
   ]
  },
  {
   "cell_type": "markdown",
   "metadata": {},
   "source": [
    "Next, let's consider high regularization.  Set the `l2_penalty` to `1e11` and run your ridge regression algorithm to learn the weights of your model.  Call your weights:\n",
    "\n",
    "`simple_weights_high_penalty`\n",
    "\n",
    "we'll use them later."
   ]
  },
  {
   "cell_type": "code",
   "execution_count": 16,
   "metadata": {
    "collapsed": false
   },
   "outputs": [
    {
     "name": "stdout",
     "output_type": "stream",
     "text": [
      "Starting gradient descent with l2_penalty = 1e+11\n",
      "Iteration = 1\n",
      "Cost function =  7.43305185103e+15\n",
      "shrinking : 0.8\n",
      "Iteration = 2\n",
      "Cost function =  5.61830389841e+15\n",
      "shrinking : 0.8\n",
      "Iteration = 3\n",
      "Cost function =  4.92061327812e+15\n",
      "shrinking : 0.8\n",
      "Iteration = 4\n",
      "Cost function =  4.65238194261e+15\n",
      "shrinking : 0.8\n",
      "Iteration = 5\n",
      "Cost function =  4.54925876401e+15\n",
      "shrinking : 0.8\n",
      "Iteration = 6\n",
      "Cost function =  4.50961239088e+15\n",
      "shrinking : 0.8\n",
      "Iteration = 7\n",
      "Cost function =  4.49437005028e+15\n",
      "shrinking : 0.8\n",
      "Iteration = 8\n",
      "Cost function =  4.48850998403e+15\n",
      "shrinking : 0.8\n",
      "Iteration = 9\n",
      "Cost function =  4.48625698853e+15\n",
      "shrinking : 0.8\n",
      "Iteration = 10\n",
      "Cost function =  4.48539075267e+15\n",
      "shrinking : 0.8\n",
      "Iteration = 20\n",
      "Cost function =  4.48484886803e+15\n",
      "shrinking : 0.8\n",
      "Iteration = 30\n",
      "Cost function =  4.48484788048e+15\n",
      "shrinking : 0.8\n",
      "Iteration = 40\n",
      "Cost function =  4.48484693108e+15\n",
      "shrinking : 0.8\n",
      "Iteration = 50\n",
      "Cost function =  4.48484598169e+15\n",
      "shrinking : 0.8\n",
      "Iteration = 60\n",
      "Cost function =  4.48484503229e+15\n",
      "shrinking : 0.8\n",
      "Iteration = 70\n",
      "Cost function =  4.4848440829e+15\n",
      "shrinking : 0.8\n",
      "Iteration = 80\n",
      "Cost function =  4.48484313351e+15\n",
      "shrinking : 0.8\n",
      "Iteration = 90\n",
      "Cost function =  4.48484218411e+15\n",
      "shrinking : 0.8\n",
      "Iteration = 100\n",
      "Cost function =  4.48484123472e+15\n",
      "shrinking : 0.8\n",
      "Iteration = 200\n",
      "Cost function =  4.48483174082e+15\n",
      "shrinking : 0.8\n",
      "Iteration = 300\n",
      "Cost function =  4.48482224696e+15\n",
      "shrinking : 0.8\n",
      "Iteration = 400\n",
      "Cost function =  4.48481275314e+15\n",
      "shrinking : 0.8\n",
      "Iteration = 500\n",
      "Cost function =  4.48480325936e+15\n",
      "shrinking : 0.8\n",
      "Iteration = 600\n",
      "Cost function =  4.48479376562e+15\n",
      "shrinking : 0.8\n",
      "Iteration = 700\n",
      "Cost function =  4.48478427191e+15\n",
      "shrinking : 0.8\n",
      "Iteration = 800\n",
      "Cost function =  4.48477477825e+15\n",
      "shrinking : 0.8\n",
      "Iteration = 900\n",
      "Cost function =  4.48476528463e+15\n",
      "shrinking : 0.8\n",
      "Iteration = 1000\n",
      "Cost function =  4.48475579105e+15\n",
      "shrinking : 0.8\n",
      "Done with gradient descent at iteration  1000\n",
      "Learned weights =  [   9.76730383  124.57217565]\n"
     ]
    }
   ],
   "source": [
    "simple_weights_high_penalty = ridge_regression_gradient_descent(simple_feature_matrix, output, initial_weights, step_size, 1e11, max_iterations)"
   ]
  },
  {
   "cell_type": "markdown",
   "metadata": {},
   "source": [
    "This code will plot the two learned models.  (The blue line is for the model with no regularization and the red line is for the one with high regularization.)"
   ]
  },
  {
   "cell_type": "code",
   "execution_count": 17,
   "metadata": {
    "collapsed": false
   },
   "outputs": [
    {
     "data": {
      "text/plain": [
       "[<matplotlib.lines.Line2D at 0x11b482b10>,\n",
       " <matplotlib.lines.Line2D at 0x11b482c10>,\n",
       " <matplotlib.lines.Line2D at 0x11b3763d0>]"
      ]
     },
     "execution_count": 17,
     "metadata": {},
     "output_type": "execute_result"
    },
    {
     "data": {
      "image/png": "[encoded data removed]",
      "text/plain": [
       "<matplotlib.figure.Figure at 0x11bf64a90>"
      ]
     },
     "metadata": {},
     "output_type": "display_data"
    }
   ],
   "source": [
    "import matplotlib.pyplot as plt\n",
    "%matplotlib inline\n",
    "# plt.plot(simple_feature_matrix,output,'k.',\n",
    "#          simple_feature_matrix,predict_output(simple_feature_matrix, simple_weights_0_penalty),'b-',\n",
    "#         simple_feature_matrix,predict_output(simple_feature_matrix, simple_weights_high_penalty),'r-')\n",
    "plt.plot(simple_feature_matrix[:,1],output,'k.',\n",
    "         simple_feature_matrix[:,1],predict_output(simple_feature_matrix, simple_weights_0_penalty),'b-',\n",
    "        simple_feature_matrix[:,1],predict_output(simple_feature_matrix, simple_weights_high_penalty),'r-')"
   ]
  },
  {
   "cell_type": "markdown",
   "metadata": {},
   "source": [
    "Compute the RSS on the TEST data for the following three sets of weights:\n",
    "1. The initial weights (all zeros)\n",
    "2. The weights learned with no regularization\n",
    "3. The weights learned with high regularization\n",
    "\n",
    "Which weights perform best?"
   ]
  },
  {
   "cell_type": "code",
   "execution_count": 18,
   "metadata": {
    "collapsed": false
   },
   "outputs": [
    {
     "name": "stdout",
     "output_type": "stream",
     "text": [
      "263.024368907\n",
      "124.572175646\n"
     ]
    }
   ],
   "source": [
    "print simple_weights_0_penalty[1]\n",
    "print simple_weights_high_penalty[1]"
   ]
  },
  {
   "cell_type": "code",
   "execution_count": 19,
   "metadata": {
    "collapsed": false
   },
   "outputs": [
    {
     "name": "stdout",
     "output_type": "stream",
     "text": [
      "[ -1.63113501e-01   2.63024369e+02]\n",
      "[   9.76730383  124.57217565]\n",
      "[ 0.  0.]\n",
      "1.78427328252e+15\n"
     ]
    }
   ],
   "source": [
    "RSS_initial  = sum((test_output-predict_output(simple_test_feature_matrix, initial_weights))**2)\n",
    "print simple_weights_0_penalty\n",
    "print simple_weights_high_penalty\n",
    "print initial_weights\n",
    "\n",
    "print RSS_initial"
   ]
  },
  {
   "cell_type": "code",
   "execution_count": 20,
   "metadata": {
    "collapsed": false
   },
   "outputs": [
    {
     "name": "stdout",
     "output_type": "stream",
     "text": [
      "RSS_0_penalty:     2.75723634598e+14\n",
      "RSS_high_penalty:  6.94642100914e+14\n"
     ]
    }
   ],
   "source": [
    "RSS_0_penalty = sum((test_output-predict_output(simple_test_feature_matrix, simple_weights_0_penalty))**2)\n",
    "RSS_high_penalty= sum((test_output-predict_output(simple_test_feature_matrix, simple_weights_high_penalty))**2)\n",
    "print 'RSS_0_penalty:    ',RSS_0_penalty\n",
    "print 'RSS_high_penalty: ',RSS_high_penalty"
   ]
  },
  {
   "cell_type": "markdown",
   "metadata": {
    "collapsed": false
   },
   "source": [
    "***QUIZ1,2,3,4 QUESTIONS***\n",
    "1. What is the value of the coefficient for `sqft_living` that you learned with no regularization, rounded to 1 decimal place?  What about the one with high regularization?  \n",
    "\n",
    "rss_0: 263.0  \n",
    "rss_high: 124.6  \n",
    "\n",
    "2. Comparing the lines you fit with the with no regularization versus high regularization, which one is steeper?  \n",
    "0 rss is steeper   \n",
    " \n",
    "3. What are the RSS on the test data for each of the set of weights above (initial, no regularization, high regularization)? \n",
    "RSS_0_penalty:     2.75723634598e+14  \n",
    "RSS_high_penalty:  6.94642100914e+14   \n"
   ]
  },
  {
   "cell_type": "markdown",
   "metadata": {},
   "source": [
    "# Running a multiple regression with L2 penalty"
   ]
  },
  {
   "cell_type": "markdown",
   "metadata": {},
   "source": [
    "Let us now consider a model with 2 features: `['sqft_living', 'sqft_living15']`."
   ]
  },
  {
   "cell_type": "markdown",
   "metadata": {},
   "source": [
    "First, create Numpy versions of your training and test data with these two features. "
   ]
  },
  {
   "cell_type": "code",
   "execution_count": 21,
   "metadata": {
    "collapsed": true
   },
   "outputs": [],
   "source": [
    "model_features = ['sqft_living', 'sqft_living15'] # sqft_living15 is the average squarefeet for the nearest 15 neighbors. \n",
    "my_output = 'price'\n",
    "(feature_matrix, output) = get_numpy_data(train_data, model_features, my_output)\n",
    "(test_feature_matrix, test_output) = get_numpy_data(test_data, model_features, my_output)"
   ]
  },
  {
   "cell_type": "markdown",
   "metadata": {},
   "source": [
    "We need to re-inialize the weights, since we have one extra parameter. Let us also set the step size and maximum number of iterations."
   ]
  },
  {
   "cell_type": "code",
   "execution_count": 22,
   "metadata": {
    "collapsed": true
   },
   "outputs": [],
   "source": [
    "initial_weights = np.array([0.0,0.0,0.0])\n",
    "step_size = 1e-12\n",
    "max_iterations = 1000"
   ]
  },
  {
   "cell_type": "markdown",
   "metadata": {},
   "source": [
    "First, let's consider no regularization.  Set the `l2_penalty` to `0.0` and run your ridge regression algorithm to learn the weights of your model.  Call your weights:\n",
    "\n",
    "`multiple_weights_0_penalty`"
   ]
  },
  {
   "cell_type": "code",
   "execution_count": 23,
   "metadata": {
    "collapsed": false
   },
   "outputs": [
    {
     "name": "stdout",
     "output_type": "stream",
     "text": [
      "Starting gradient descent with l2_penalty = 0\n",
      "Iteration = 1\n",
      "Cost function =  7.43305185103e+15\n",
      "shrinking : 1.0\n",
      "Iteration = 2\n",
      "Cost function =  4.0567523315e+15\n",
      "shrinking : 1.0\n",
      "Iteration = 3\n",
      "Cost function =  2.52956511433e+15\n",
      "shrinking : 1.0\n",
      "Iteration = 4\n",
      "Cost function =  1.83855669428e+15\n",
      "shrinking : 1.0\n",
      "Iteration = 5\n",
      "Cost function =  1.52567557521e+15\n",
      "shrinking : 1.0\n",
      "Iteration = 6\n",
      "Cost function =  1.38378949867e+15\n",
      "shrinking : 1.0\n",
      "Iteration = 7\n",
      "Cost function =  1.31923260628e+15\n",
      "shrinking : 1.0\n",
      "Iteration = 8\n",
      "Cost function =  1.28964887203e+15\n",
      "shrinking : 1.0\n",
      "Iteration = 9\n",
      "Cost function =  1.27588472408e+15\n",
      "shrinking : 1.0\n",
      "Iteration = 10\n",
      "Cost function =  1.26927880758e+15\n",
      "shrinking : 1.0\n",
      "Iteration = 20\n",
      "Cost function =  1.25781238632e+15\n",
      "shrinking : 1.0\n",
      "Iteration = 30\n",
      "Cost function =  1.25195457127e+15\n",
      "shrinking : 1.0\n",
      "Iteration = 40\n",
      "Cost function =  1.24675542316e+15\n",
      "shrinking : 1.0\n",
      "Iteration = 50\n",
      "Cost function =  1.24213950875e+15\n",
      "shrinking : 1.0\n",
      "Iteration = 60\n",
      "Cost function =  1.23804140114e+15\n",
      "shrinking : 1.0\n",
      "Iteration = 70\n",
      "Cost function =  1.23440301346e+15\n",
      "shrinking : 1.0\n",
      "Iteration = 80\n",
      "Cost function =  1.23117277498e+15\n",
      "shrinking : 1.0\n",
      "Iteration = 90\n",
      "Cost function =  1.22830490006e+15\n",
      "shrinking : 1.0\n",
      "Iteration = 100\n",
      "Cost function =  1.22575873926e+15\n",
      "shrinking : 1.0\n",
      "Iteration = 200\n",
      "Cost function =  1.21173888142e+15\n",
      "shrinking : 1.0\n",
      "Iteration = 300\n",
      "Cost function =  1.20747308096e+15\n",
      "shrinking : 1.0\n",
      "Iteration = 400\n",
      "Cost function =  1.20617512577e+15\n",
      "shrinking : 1.0\n",
      "Iteration = 500\n",
      "Cost function =  1.20578019023e+15\n",
      "shrinking : 1.0\n",
      "Iteration = 600\n",
      "Cost function =  1.20566001447e+15\n",
      "shrinking : 1.0\n",
      "Iteration = 700\n",
      "Cost function =  1.20562343925e+15\n",
      "shrinking : 1.0\n",
      "Iteration = 800\n",
      "Cost function =  1.20561230098e+15\n",
      "shrinking : 1.0\n",
      "Iteration = 900\n",
      "Cost function =  1.20560890236e+15\n",
      "shrinking : 1.0\n",
      "Iteration = 1000\n",
      "Cost function =  1.20560785866e+15\n",
      "shrinking : 1.0\n",
      "Done with gradient descent at iteration  1000\n",
      "Learned weights =  [  -0.35743482  243.0541689    22.41481594]\n"
     ]
    }
   ],
   "source": [
    "multiple_weights_0_penalty = ridge_regression_gradient_descent(feature_matrix, output, initial_weights, step_size, 0, max_iterations)"
   ]
  },
  {
   "cell_type": "markdown",
   "metadata": {},
   "source": [
    "Next, let's consider high regularization.  Set the `l2_penalty` to `1e11` and run your ridge regression algorithm to learn the weights of your model.  Call your weights:\n",
    "\n",
    "`multiple_weights_high_penalty`"
   ]
  },
  {
   "cell_type": "code",
   "execution_count": 24,
   "metadata": {
    "collapsed": false
   },
   "outputs": [
    {
     "name": "stdout",
     "output_type": "stream",
     "text": [
      "Starting gradient descent with l2_penalty = 1e+11\n",
      "Iteration = 1\n",
      "Cost function =  7.43305185103e+15\n",
      "shrinking : 0.8\n",
      "Iteration = 2\n",
      "Cost function =  4.46048979029e+15\n",
      "shrinking : 0.8\n",
      "Iteration = 3\n",
      "Cost function =  3.79667446884e+15\n",
      "shrinking : 0.8\n",
      "Iteration = 4\n",
      "Cost function =  3.64831953044e+15\n",
      "shrinking : 0.8\n",
      "Iteration = 5\n",
      "Cost function =  3.61509110322e+15\n",
      "shrinking : 0.8\n",
      "Iteration = 6\n",
      "Cost function =  3.60760274251e+15\n",
      "shrinking : 0.8\n",
      "Iteration = 7\n",
      "Cost function =  3.60588632216e+15\n",
      "shrinking : 0.8\n",
      "Iteration = 8\n",
      "Cost function =  3.60547487453e+15\n",
      "shrinking : 0.8\n",
      "Iteration = 9\n",
      "Cost function =  3.60536516777e+15\n",
      "shrinking : 0.8\n",
      "Iteration = 10\n",
      "Cost function =  3.60532940218e+15\n",
      "shrinking : 0.8\n",
      "Iteration = 20\n",
      "Cost function =  3.60529428102e+15\n",
      "shrinking : 0.8\n",
      "Iteration = 30\n",
      "Cost function =  3.60529353727e+15\n",
      "shrinking : 0.8\n",
      "Iteration = 40\n",
      "Cost function =  3.60529308275e+15\n",
      "shrinking : 0.8\n",
      "Iteration = 50\n",
      "Cost function =  3.60529263111e+15\n",
      "shrinking : 0.8\n",
      "Iteration = 60\n",
      "Cost function =  3.60529217949e+15\n",
      "shrinking : 0.8\n",
      "Iteration = 70\n",
      "Cost function =  3.60529172788e+15\n",
      "shrinking : 0.8\n",
      "Iteration = 80\n",
      "Cost function =  3.60529127626e+15\n",
      "shrinking : 0.8\n",
      "Iteration = 90\n",
      "Cost function =  3.60529082465e+15\n",
      "shrinking : 0.8\n",
      "Iteration = 100\n",
      "Cost function =  3.60529037303e+15\n",
      "shrinking : 0.8\n",
      "Iteration = 200\n",
      "Cost function =  3.6052858569e+15\n",
      "shrinking : 0.8\n",
      "Iteration = 300\n",
      "Cost function =  3.60528134078e+15\n",
      "shrinking : 0.8\n",
      "Iteration = 400\n",
      "Cost function =  3.60527682468e+15\n",
      "shrinking : 0.8\n",
      "Iteration = 500\n",
      "Cost function =  3.60527230859e+15\n",
      "shrinking : 0.8\n",
      "Iteration = 600\n",
      "Cost function =  3.60526779252e+15\n",
      "shrinking : 0.8\n",
      "Iteration = 700\n",
      "Cost function =  3.60526327646e+15\n",
      "shrinking : 0.8\n",
      "Iteration = 800\n",
      "Cost function =  3.60525876041e+15\n",
      "shrinking : 0.8\n",
      "Iteration = 900\n",
      "Cost function =  3.60525424438e+15\n",
      "shrinking : 0.8\n",
      "Iteration = 1000\n",
      "Cost function =  3.60524972836e+15\n",
      "shrinking : 0.8\n",
      "Done with gradient descent at iteration  1000\n",
      "Learned weights =  [  6.7429658   91.48927361  78.43658768]\n"
     ]
    }
   ],
   "source": [
    "multiple_weights_high_penalty = ridge_regression_gradient_descent(feature_matrix, output, initial_weights, step_size, 1e11, max_iterations)"
   ]
  },
  {
   "cell_type": "markdown",
   "metadata": {},
   "source": [
    "Compute the RSS on the TEST data for the following three sets of weights:\n",
    "1. The initial weights (all zeros)\n",
    "2. The weights learned with no regularization\n",
    "3. The weights learned with high regularization\n",
    "\n",
    "Which weights perform best?"
   ]
  },
  {
   "cell_type": "code",
   "execution_count": 25,
   "metadata": {
    "collapsed": false,
    "scrolled": true
   },
   "outputs": [
    {
     "name": "stdout",
     "output_type": "stream",
     "text": [
      "coefficient for sqft_living in multiple_weights_0_penalty: 243.0541689\n",
      "coefficient for sqft_living in multiple_weights_high_penalty: 91.4892736111\n"
     ]
    }
   ],
   "source": [
    "print 'coefficient for sqft_living in multiple_weights_0_penalty:',multiple_weights_0_penalty[1]\n",
    "print 'coefficient for sqft_living in multiple_weights_high_penalty:',multiple_weights_high_penalty[1]"
   ]
  },
  {
   "cell_type": "code",
   "execution_count": 26,
   "metadata": {
    "collapsed": false
   },
   "outputs": [
    {
     "name": "stdout",
     "output_type": "stream",
     "text": [
      "RSS_initial:  1.78427328252e+15\n",
      "RSS_0_penalty:     2.74067618287e+14\n",
      "RSS_high_penalty:  5.0040480058e+14\n"
     ]
    }
   ],
   "source": [
    "RSS_initial = sum((test_output-predict_output(test_feature_matrix, initial_weights))**2)\n",
    "RSS_0_penalty = sum((test_output-predict_output(test_feature_matrix, multiple_weights_0_penalty))**2)\n",
    "RSS_high_penalty= sum((test_output-predict_output(test_feature_matrix, multiple_weights_high_penalty))**2)\n",
    "print 'RSS_initial: ', RSS_initial\n",
    "print 'RSS_0_penalty:    ',RSS_0_penalty\n",
    "print 'RSS_high_penalty: ',RSS_high_penalty"
   ]
  },
  {
   "cell_type": "markdown",
   "metadata": {},
   "source": [
    "Predict the house price for the 1st house in the test set using the no regularization and high regularization models. (Remember that python starts indexing from 0.) How far is the prediction from the actual price?  Which weights perform best for the 1st house?"
   ]
  },
  {
   "cell_type": "code",
   "execution_count": 27,
   "metadata": {
    "collapsed": false
   },
   "outputs": [
    {
     "name": "stdout",
     "output_type": "stream",
     "text": [
      "310000.0\n",
      "0_penalty prediction: 387465.476465 error: 77465.4764647\n",
      "hign_penalty prediction: 270453.530305 error: -39546.4696951\n"
     ]
    }
   ],
   "source": [
    "print test_output[0]\n",
    "prediction_0 = predict_output(test_feature_matrix[0,:],multiple_weights_0_penalty)\n",
    "prediction_h = predict_output(test_feature_matrix[0,:],multiple_weights_high_penalty)\n",
    "print '0_penalty prediction:',prediction_0,'error:',prediction_0-test_output[0]\n",
    "print 'hign_penalty prediction:',prediction_h,'error:',prediction_h-test_output[0]"
   ]
  },
  {
   "cell_type": "markdown",
   "metadata": {
    "collapsed": true
   },
   "source": [
    "***QUIZ5,6,7,8 QUESTIONS***\n",
    "1. What is the value of the coefficient for `sqft_living` that you learned with no regularization, rounded to 1 decimal place?  What about the one with high regularization?\n",
    "\n",
    "coefficient for sqft_living in multiple_weights_0_penalty: 243.1\n",
    "coefficient for sqft_living in multiple_weights_high_penalty: 91.5\n",
    "\n",
    "2. What are the RSS on the test data for each of the set of weights above (initial, no regularization, high regularization)? \n",
    "\n",
    "RSS_initial:  1.78427328252e+15  \n",
    "RSS_0_penalty:     2.74067618287e+14  \n",
    "RSS_high_penalty:  5.0040480058e+14  \n",
    "\n",
    "3. We make prediction for the first house in the test set using two sets of weights (no regularization vs high regularization). Which weights make better prediction <u>for that particular house</u>?  \n",
    "\n",
    "310000.0  \n",
    "0_penalty prediction: 387465.476465 error: 77465.4764647  \n",
    "hign_penalty prediction: 270453.530305 error: -39546.4696951  \n",
    "\n",
    "high penalty is better\n"
   ]
  },
  {
   "cell_type": "code",
   "execution_count": null,
   "metadata": {
    "collapsed": true
   },
   "outputs": [],
   "source": []
  }
 ],
 "metadata": {
  "anaconda-cloud": {},
  "kernelspec": {
   "display_name": "Python [gl-env]",
   "language": "python",
   "name": "Python [gl-env]"
  },
  "language_info": {
   "codemirror_mode": {
    "name": "ipython",
    "version": 2
   },
   "file_extension": ".py",
   "mimetype": "text/x-python",
   "name": "python",
   "nbconvert_exporter": "python",
   "pygments_lexer": "ipython2",
   "version": "2.7.11"
  }
 },
 "nbformat": 4,
 "nbformat_minor": 0
}
